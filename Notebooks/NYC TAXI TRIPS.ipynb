{
 "cells": [
  {
   "cell_type": "markdown",
   "id": "d798a523",
   "metadata": {},
   "source": [
    "# Se necessário utilize os pip's abaixo"
   ]
  },
  {
   "cell_type": "code",
   "execution_count": null,
   "id": "9223569f",
   "metadata": {},
   "outputs": [],
   "source": [
    "#!pip install streamlit\n",
    "#!pip install pandas\n",
    "#!pip install seaborn\n",
    "#!pip install matplotlib.pyplot\n",
    "#!pip install datetime\n",
    "#!pip install pathlib\n",
    "#!pip install plotly.express"
   ]
  },
  {
   "cell_type": "code",
   "execution_count": null,
   "id": "542020ae",
   "metadata": {},
   "outputs": [],
   "source": [
    "import pandas as pd\n",
    "import streamlit as st\n",
    "import seaborn as sns\n",
    "import matplotlib.pyplot as plt\n",
    "import datetime\n",
    "from pathlib import Path\n",
    "import warnings\n",
    "import plotly.express as px\n",
    "warnings.filterwarnings ('ignore') "
   ]
  },
  {
   "cell_type": "code",
   "execution_count": null,
   "id": "01bd2939",
   "metadata": {},
   "outputs": [],
   "source": [
    "DATA_PATH = Path('C:/Users/joaos/OneDrive/Área de Trabalho/DataSprints/Data/original data')"
   ]
  },
  {
   "cell_type": "code",
   "execution_count": null,
   "id": "62f0741d",
   "metadata": {},
   "outputs": [],
   "source": [
    "df_2009 = pd.read_json(DATA_PATH / 'data-sample_data-nyctaxi-trips-2009-json_corrigido.json', lines=True)\n",
    "df_2010 = pd.read_json(DATA_PATH / 'data-sample_data-nyctaxi-trips-2010-json_corrigido.json', lines=True)\n",
    "df_2011 = pd.read_json(DATA_PATH / 'data-sample_data-nyctaxi-trips-2011-json_corrigido.json', lines=True)\n",
    "df_2012 = pd.read_json(DATA_PATH / 'data-sample_data-nyctaxi-trips-2012-json_corrigido.json', lines=True)"
   ]
  },
  {
   "cell_type": "markdown",
   "id": "e1b5409f",
   "metadata": {},
   "source": [
    "# EDA"
   ]
  },
  {
   "cell_type": "code",
   "execution_count": null,
   "id": "821a6531",
   "metadata": {
    "scrolled": true
   },
   "outputs": [],
   "source": [
    "display(df_2009.shape)\n",
    "display(df_2010.shape)\n",
    "display(df_2011.shape)\n",
    "display(df_2012.shape)"
   ]
  },
  {
   "cell_type": "code",
   "execution_count": null,
   "id": "33a54dbc",
   "metadata": {},
   "outputs": [],
   "source": [
    "def basic_info(dataf):\n",
    "    display(dataf.describe(include='all').transpose())\n",
    "    print(f'\\n{dataf.info()}')\n",
    "    print(f'\\nContagem de nulos(%):\\n{(dataf.isnull().sum().sort_values(ascending=False)/dataf.shape[0])*100}')"
   ]
  },
  {
   "cell_type": "code",
   "execution_count": null,
   "id": "41efa596",
   "metadata": {},
   "outputs": [],
   "source": [
    "basic_info(df_2009)\n",
    "print('\\nFinal 2009--------------------------XX-----------------------------')\n",
    "basic_info(df_2010)\n",
    "print('\\nFinal 2010--------------------------XX-----------------------------')\n",
    "basic_info(df_2011)\n",
    "print('\\nFinal 2011--------------------------XX-----------------------------')\n",
    "basic_info(df_2012)\n",
    "print('\\nFinal 2012--------------------------XX-----------------------------')"
   ]
  },
  {
   "cell_type": "markdown",
   "id": "377bf066",
   "metadata": {},
   "source": [
    "### Observações importantes\n",
    "\n",
    "-> Através de uma breve pesquisa, foi verificado que a feature \"surchase\" é uma sobretaxa de 50 cents cobrada por áreas de NY, na qual em horários de pico é cobrado $1;\n",
    "Referência: https://gothamist.com/news/50-cent-taxi-surcharge-goes-into-effect-sunday\n",
    "\n",
    "-> A partir das descrições acima, nota-se que apesar de serem datasets de anos distintos, todos possuem a mesma quantidade de valores nulos nas features de \"rate_code\" e \"store_and_fwd_flag\".\n",
    "\n",
    "-> Há número de passageiros setados como 0, teríamos que possuir melhor descrição dos dados para saber se há algum erro ou se é o trajeto considerado até o embarque do passageiro, por falta dessa informação, irei considerar como \"trajeto até o embarque do passageiro\", por tanto, será mantido para análises futuras.\n",
    "\n",
    "-> Existem muitos valores faltantes em geolocalização onde o mesmo assume \"0.00000\", há também uma quantidade considerável de valores 0 na coluna \"trip_distance\"\n",
    "\n",
    "-> Os anos 2011 e 2012 possuem meses faltantes, pode ser simplesmente por não haver corridas naquele mês ou ocorreu algum erro nos dados"
   ]
  },
  {
   "cell_type": "markdown",
   "id": "0370080b",
   "metadata": {},
   "source": [
    "## Pipeline opcional"
   ]
  },
  {
   "cell_type": "code",
   "execution_count": null,
   "id": "9b175823",
   "metadata": {},
   "outputs": [],
   "source": [
    "#%%writefile data.py\n",
    "\n",
    "def solving_columns(dataf):\n",
    "    dataf[\"payment_type\"] = dataf[\"payment_type\"].str.lower()\n",
    "    dataf['pickup_datetime'] = pd.to_datetime(dataf['pickup_datetime']) \n",
    "    dataf['dropoff_datetime'] = pd.to_datetime(dataf['dropoff_datetime'])\n",
    "    dataf['min_diff'] = (dataf['dropoff_datetime'] - dataf['pickup_datetime'])/ pd.Timedelta(minutes=1)\n",
    "    dataf['pickup_day']= dataf['pickup_datetime'].dt.strftime(\"%Y-%m-%d\").astype(\"datetime64\")\n",
    "    dataf['pickup_hour']= dataf['pickup_datetime'].dt.strftime(\"%H:%M:%S\")\n",
    "    dataf['dropoff_day']= dataf['dropoff_datetime'].dt.strftime(\"%Y-%m-%d\").astype(\"datetime64\")\n",
    "    dataf['dropoff_hour']= dataf['dropoff_datetime'].dt.strftime(\"%H:%M:%S\")\n",
    "    dataf['Dia_semana'] = dataf['pickup_day'].dt.dayofweek\n",
    "    dataf.drop(columns=['rate_code','store_and_fwd_flag','pickup_datetime','dropoff_datetime'], axis=1, inplace=True)\n",
    "    return dataf"
   ]
  },
  {
   "cell_type": "code",
   "execution_count": null,
   "id": "5cc75960",
   "metadata": {},
   "outputs": [],
   "source": [
    "#%%writefile respostas.py\n",
    "\n",
    "def QM1(dataf):\n",
    "    print('1. Qual a distância média percorrida por viagens com no máximo 2 passageiros')\n",
    "    plt.figure(figsize=(10,6))\n",
    "    sns.barplot(x=dataf[dataf['passenger_count'] <= 2] \\\n",
    "                .groupby(by=['passenger_count']) \\\n",
    "                .agg({'trip_distance':'mean'}) \\\n",
    "                .reset_index()['passenger_count'],\n",
    "                \n",
    "                y=dataf[dataf['passenger_count'] <= 2] \\\n",
    "                .groupby(by=['passenger_count']) \\\n",
    "                .agg({'trip_distance':'mean'}) \\\n",
    "                .reset_index()['trip_distance']);\n",
    "    \n",
    "    plt.ylabel('')\n",
    "\n",
    "def QM2(dataf):\n",
    "    print('2. Quais os 3 maiores vendors em quantidade total de dinheiro arrecadado;')\n",
    "    plt.figure(figsize=(8, 6))\n",
    "    sns.barplot(x=dataf.groupby(by=['vendor_id']).agg({'total_amount':'sum'}) \\\n",
    "                .sort_values('total_amount', ascending = False) \\\n",
    "                .reset_index()[:3]['vendor_id'], \n",
    "                \n",
    "                y=dataf.groupby(by=['vendor_id']) \\\n",
    "                .agg({'total_amount':'sum'}) \\\n",
    "                .sort_values('total_amount', ascending = False) \\\n",
    "                .reset_index()[:3]['total_amount']/100,\n",
    "                \n",
    "                hue=dataf.groupby(by=['vendor_id']) \\\n",
    "                .agg({'total_amount':'sum'}) \\\n",
    "                .sort_values('total_amount', ascending = False) \\\n",
    "                .reset_index()[:3]['vendor_id'], palette=\"deep\", dodge=False)\n",
    "    \n",
    "    plt.title('Valor total agrupado por vendor') \n",
    "    plt.ylabel('')\n",
    "    plt.xlabel('')\n",
    "    \n",
    "def QM3(dataf):  \n",
    "    print('3. Faça um histograma da distribuição mensal, nos 4 anos, de corridas pagas em dinheiro;')\n",
    "    plt.figure(figsize=(15,8))\n",
    "    sns.barplot(data = dataf[dataf['payment_type'] == 'cash'] \\\n",
    "                    .groupby(dataf['dropoff_day'].dt.to_period('M')) \\\n",
    "                    .agg({'total_amount':'sum'}) \\\n",
    "                    .reset_index(), x='dropoff_day', y='total_amount')\n",
    "    plt.xticks(rotation=90)\n",
    "    plt.title('Soma de pagamentos em dinheiro agrupado por mês')\n",
    "    plt.legend(['Total'], fontsize=13)\n",
    "    plt.ylabel('')\n",
    "    plt.xlabel('');\n",
    "    plt.show()\n",
    "    \n",
    "def QM4(dataf):\n",
    "    print('4. Faça um gráfico de série temporal contando a quantidade de gorjetas de cada dia, nos últimos 3 meses de 2012.')\n",
    "    fig = px.bar(x=dataf[(dataf['dropoff_day'].dt.year == 2012) & (dataf['dropoff_day'].dt.month >= 8)] \\\n",
    "                .groupby(by=dataf[\"dropoff_day\"]) \\\n",
    "                .agg({'tip_amount':'sum'}) \\\n",
    "                .reset_index()['dropoff_day'],\n",
    "                 \n",
    "                 y=dataf[(dataf['dropoff_day'].dt.year == 2012) & (dataf['dropoff_day'].dt.month >= 8)] \\\n",
    "                .groupby(by=dataf[\"dropoff_day\"]) \\\n",
    "                .agg({'tip_amount':'sum'}) \\\n",
    "                .reset_index()[\"tip_amount\"], \n",
    "                 \n",
    "                 color=dataf[(dataf['dropoff_day'].dt.year == 2012) & (dataf['dropoff_day'].dt.month >= 8)] \\\n",
    "                .groupby(by=dataf[\"dropoff_day\"]) \\\n",
    "                .agg({'tip_amount':'sum'}) \\\n",
    "                .reset_index()[\"dropoff_day\"].dt.month, \n",
    "                 \n",
    "                title=\"Gorjeta por dia\", \n",
    "                labels={'x':'day',\n",
    "                        'y':'tip'}, \n",
    "                color_continuous_scale='portland', \n",
    "                opacity=0.7)\n",
    "    fig.show()\n",
    "    \n",
    "def bonus1(dataf):\n",
    "    print('Qual o tempo médio das corridas nos dias de sábado e domingo;')\n",
    "    fig = plt.figure(figsize=(14,10))\n",
    "    sns.lineplot(data=dataf[(dataf['Dia_semana'] == 5) | (dataf['Dia_semana'] == 6)], \n",
    "             x=\"pickup_day\", y=\"min_diff\", hue=\"Dia_semana\",palette='colorblind', style=\"Dia_semana\", legend=False)\n",
    "    plt.axhline(dataf['min_diff'][(dataf['Dia_semana'] == 5) | (dataf['Dia_semana'] == 6)].mean(), color='r',\n",
    "            linestyle='--')\n",
    "    plt.title('Tempo de corridas no Sábado e Domingo') \n",
    "    plt.ylabel('quantidade em minutos')\n",
    "    plt.xlabel('')\n",
    "    plt.legend(['Sábado','Domingo', 'Média'])\n",
    "    fig.show()"
   ]
  },
  {
   "cell_type": "markdown",
   "id": "78cdeff0",
   "metadata": {},
   "source": [
    "## Transformação dos dados em função"
   ]
  },
  {
   "cell_type": "code",
   "execution_count": null,
   "id": "ea66240f",
   "metadata": {},
   "outputs": [],
   "source": [
    "all_dfs = [df_2009, df_2010, df_2011, df_2012]\n",
    "dfFull_func = pd.concat(all_dfs).reset_index(drop=True)"
   ]
  },
  {
   "cell_type": "code",
   "execution_count": null,
   "id": "fffd172a",
   "metadata": {},
   "outputs": [],
   "source": [
    "dfFull_func = solving_columns(dfFull_func)"
   ]
  },
  {
   "cell_type": "code",
   "execution_count": null,
   "id": "d89b61ee",
   "metadata": {},
   "outputs": [],
   "source": [
    "QM1(dfFull_func)"
   ]
  },
  {
   "cell_type": "code",
   "execution_count": null,
   "id": "0efb884c",
   "metadata": {},
   "outputs": [],
   "source": [
    "QM2(dfFull_func)"
   ]
  },
  {
   "cell_type": "code",
   "execution_count": null,
   "id": "6b43315f",
   "metadata": {},
   "outputs": [],
   "source": [
    "QM3(dfFull_func)"
   ]
  },
  {
   "cell_type": "code",
   "execution_count": null,
   "id": "66b23148",
   "metadata": {},
   "outputs": [],
   "source": [
    "QM4(dfFull_func)"
   ]
  },
  {
   "cell_type": "code",
   "execution_count": null,
   "id": "bc7afac6",
   "metadata": {},
   "outputs": [],
   "source": [
    "bonus1(dfFull_func)"
   ]
  },
  {
   "cell_type": "markdown",
   "id": "a33d0db3",
   "metadata": {},
   "source": [
    "## Transformação dos dados"
   ]
  },
  {
   "cell_type": "code",
   "execution_count": null,
   "id": "2edf5bdd",
   "metadata": {},
   "outputs": [],
   "source": [
    "#após algumas análises, resolvi juntar os datasets\n",
    "\n",
    "all_dfs = [df_2009, df_2010, df_2011, df_2012]\n",
    "dfFull = pd.concat(all_dfs).reset_index(drop=True)"
   ]
  },
  {
   "cell_type": "code",
   "execution_count": null,
   "id": "5950fa1a",
   "metadata": {},
   "outputs": [],
   "source": [
    "#Drop das colunas com muitos valores nulos, não irá trazer valor para a análise\n",
    "dfFull.drop(columns=['rate_code','store_and_fwd_flag'], axis=1, inplace=True)"
   ]
  },
  {
   "cell_type": "code",
   "execution_count": null,
   "id": "d26435f2",
   "metadata": {},
   "outputs": [],
   "source": [
    "#Perceba que temos 6 tipos únicos de payment_type porém por conta do upper case\n",
    "\n",
    "dfFull['payment_type'].value_counts()"
   ]
  },
  {
   "cell_type": "code",
   "execution_count": null,
   "id": "53e2e3f5",
   "metadata": {},
   "outputs": [],
   "source": [
    "dfFull[\"payment_type\"] = dfFull[\"payment_type\"].str.lower()"
   ]
  },
  {
   "cell_type": "code",
   "execution_count": null,
   "id": "6dfdb8e1",
   "metadata": {},
   "outputs": [],
   "source": [
    "#tratando data\n",
    "dfFull['pickup_datetime'] = pd.to_datetime(dfFull['pickup_datetime']) \n",
    "dfFull['dropoff_datetime'] = pd.to_datetime(dfFull['dropoff_datetime'])"
   ]
  },
  {
   "cell_type": "code",
   "execution_count": null,
   "id": "6e8d2070",
   "metadata": {},
   "outputs": [],
   "source": [
    "dfFull['min_diff'] = (dfFull['dropoff_datetime'] - dfFull['pickup_datetime'])/ pd.Timedelta(minutes=1)"
   ]
  },
  {
   "cell_type": "code",
   "execution_count": null,
   "id": "b2e8dc89",
   "metadata": {},
   "outputs": [],
   "source": [
    "dfFull['pickup_day']= dfFull['pickup_datetime'].dt.strftime(\"%Y-%m-%d\").astype(\"datetime64\")\n",
    "dfFull['pickup_hour']= dfFull['pickup_datetime'].dt.strftime(\"%H:%M:%S\")\n",
    "dfFull['dropoff_day']= dfFull['dropoff_datetime'].dt.strftime(\"%Y-%m-%d\").astype(\"datetime64\")\n",
    "dfFull['dropoff_hour']= dfFull['dropoff_datetime'].dt.strftime(\"%H:%M:%S\")"
   ]
  },
  {
   "cell_type": "code",
   "execution_count": null,
   "id": "cb9b655e",
   "metadata": {},
   "outputs": [],
   "source": [
    "dfFull.drop(columns=['pickup_datetime','dropoff_datetime'], axis=1, inplace=True)"
   ]
  },
  {
   "cell_type": "code",
   "execution_count": null,
   "id": "b9e0cd7e",
   "metadata": {},
   "outputs": [],
   "source": [
    "dfFull.duplicated().sum()"
   ]
  },
  {
   "cell_type": "code",
   "execution_count": null,
   "id": "4b62d307",
   "metadata": {},
   "outputs": [],
   "source": [
    "dfFull.head()"
   ]
  },
  {
   "cell_type": "code",
   "execution_count": null,
   "id": "a07ac017",
   "metadata": {},
   "outputs": [],
   "source": [
    "plt.figure(figsize=(12,8))\n",
    "sns.countplot(y=dfFull['passenger_count']) \n",
    "plt.title('Quantidade de passageiros por corrida') \n",
    "plt.show()"
   ]
  },
  {
   "cell_type": "markdown",
   "id": "ce889149",
   "metadata": {},
   "source": [
    "### Respostas"
   ]
  },
  {
   "cell_type": "markdown",
   "id": "2501f80f",
   "metadata": {},
   "source": [
    "#### 1. Qual a distância média percorrida por viagens com no máximo 2 passageiros;"
   ]
  },
  {
   "cell_type": "code",
   "execution_count": null,
   "id": "55758a95",
   "metadata": {},
   "outputs": [],
   "source": [
    "df2passenger = dfFull[dfFull['passenger_count'] <= 2]"
   ]
  },
  {
   "cell_type": "code",
   "execution_count": null,
   "id": "24566b75",
   "metadata": {},
   "outputs": [],
   "source": [
    "#média geral com no máximo 2 passageiros\n",
    "df2passenger['trip_distance'].mean()"
   ]
  },
  {
   "cell_type": "code",
   "execution_count": null,
   "id": "700d6d01",
   "metadata": {},
   "outputs": [],
   "source": [
    "dfplot = df2passenger.groupby(by=['passenger_count']).agg({'trip_distance':'mean'}).reset_index()"
   ]
  },
  {
   "cell_type": "code",
   "execution_count": null,
   "id": "cabbd751",
   "metadata": {},
   "outputs": [],
   "source": [
    "#média por quantidade de passageiros\n",
    "plt.figure(figsize=(10,6))\n",
    "sns.barplot(x=dfplot['passenger_count'], y=dfplot['trip_distance']);"
   ]
  },
  {
   "cell_type": "markdown",
   "id": "b1bb05d8",
   "metadata": {},
   "source": [
    "#### 2. Quais os 3 maiores vendors em quantidade total de dinheiro arrecadado;"
   ]
  },
  {
   "cell_type": "code",
   "execution_count": null,
   "id": "1cc4ec6d",
   "metadata": {},
   "outputs": [],
   "source": [
    "top3vendor = dfFull.groupby(by=['vendor_id']).agg({'total_amount':'sum'}) \\\n",
    "    .sort_values('total_amount', ascending = False) \\\n",
    "    .reset_index()[:3]"
   ]
  },
  {
   "cell_type": "code",
   "execution_count": null,
   "id": "955ebf32",
   "metadata": {},
   "outputs": [],
   "source": [
    "#reduzi a dimensão de total_amount para melhor leitura da diferença entre CMT e VTS\n",
    "plt.figure(figsize=(8, 6))\n",
    "sns.barplot(x=top3vendor['vendor_id'],y=top3vendor['total_amount']/100, hue=top3vendor['vendor_id'], palette=\"deep\", dodge=False)\n",
    "plt.title('Soma de total amount agrupado por vendor') \n",
    "plt.ylabel('')\n",
    "plt.xlabel('');"
   ]
  },
  {
   "cell_type": "markdown",
   "id": "411a8eab",
   "metadata": {},
   "source": [
    "#### 3. Faça um histograma da distribuição mensal, nos 4 anos, de corridas pagas em dinheiro;"
   ]
  },
  {
   "cell_type": "code",
   "execution_count": null,
   "id": "2fd55296",
   "metadata": {},
   "outputs": [],
   "source": [
    "#Há corridas com inicio no mês X e final no mês Y, como o pagamento em dinheiro ocorre somente no final da corrida, irei utilizar a coluna de dropoff_day\n",
    "dfFull[dfFull['payment_type'] == 'cash'] \\\n",
    "                .groupby(by=dfFull[\"dropoff_day\"]) \\\n",
    "                .agg({'total_amount':'sum'}) \\\n",
    "                .reset_index()"
   ]
  },
  {
   "cell_type": "code",
   "execution_count": null,
   "id": "68dca175",
   "metadata": {},
   "outputs": [],
   "source": [
    "plt.figure(figsize=(15,8))\n",
    "sns.barplot(data = dfFull[dfFull['payment_type'] == 'cash'] \\\n",
    "                .groupby(dfFull['dropoff_day'].dt.to_period('M')) \\\n",
    "                .agg({'total_amount':'sum'}) \\\n",
    "                .reset_index(), x='dropoff_day', y='total_amount')\n",
    "plt.xticks(rotation=90)\n",
    "plt.title('Soma de pagamentos em dinheiro agrupado por mês')\n",
    "plt.legend(['Total'], fontsize=13)\n",
    "plt.ylabel('')\n",
    "plt.xlabel('');\n",
    "plt.show()"
   ]
  },
  {
   "cell_type": "markdown",
   "id": "01954123",
   "metadata": {},
   "source": [
    "#### 4. Faça um gráfico de série temporal contando a quantidade de gorjetas de cada dia, nos últimos 3 meses de 2012."
   ]
  },
  {
   "cell_type": "code",
   "execution_count": null,
   "id": "c0d35b78",
   "metadata": {},
   "outputs": [],
   "source": [
    "dftip = dfFull[(dfFull['dropoff_day'].dt.year == 2012) & (dfFull['dropoff_day'].dt.month >= 8)] \\\n",
    "                .groupby(by=dfFull[\"dropoff_day\"]) \\\n",
    "                .agg({'tip_amount':'sum'}) \\\n",
    "                .reset_index()"
   ]
  },
  {
   "cell_type": "code",
   "execution_count": null,
   "id": "29279cca",
   "metadata": {},
   "outputs": [],
   "source": [
    "fig = px.bar(dftip, x='dropoff_day', y=\"tip_amount\", color=dftip[\"dropoff_day\"].dt.month, title=\"Tip for day\", \\\n",
    "            labels={'dropoff_day':'day'}, color_continuous_scale='portland', opacity=0.7)\n",
    "fig.show()"
   ]
  },
  {
   "cell_type": "markdown",
   "id": "f24dcaa6",
   "metadata": {},
   "source": [
    "#### Qual o tempo médio das corridas nos dias de sábado e domingo;"
   ]
  },
  {
   "cell_type": "code",
   "execution_count": null,
   "id": "8097962f",
   "metadata": {},
   "outputs": [],
   "source": [
    "#irei considerar agora o inicio das corridas corridas, mesmo que ela comece, por exemplo, às 23:59:59 de Domingo\n",
    "# Domingo = 6 // Sábado = 5\n",
    "\n",
    "dfFull['Dia_semana'] = dfFull['pickup_day'].dt.dayofweek"
   ]
  },
  {
   "cell_type": "code",
   "execution_count": null,
   "id": "0bffdbd2",
   "metadata": {},
   "outputs": [],
   "source": [
    "dfFull[(dfFull['Dia_semana'] == 5) | (dfFull['Dia_semana'] == 6)].head()"
   ]
  },
  {
   "cell_type": "code",
   "execution_count": null,
   "id": "546f25e4",
   "metadata": {},
   "outputs": [],
   "source": [
    "#tempo médio (em minutos) das corridas nos dias de sábado e domingo\n",
    "dfFull['min_diff'][(dfFull['Dia_semana'] == 5) | (dfFull['Dia_semana'] == 6)].mean()"
   ]
  },
  {
   "cell_type": "code",
   "execution_count": null,
   "id": "48d2921b",
   "metadata": {},
   "outputs": [],
   "source": [
    "fig = plt.figure(figsize=(14,10))\n",
    "sns.lineplot(data=dfFull[(dfFull['Dia_semana'] == 5) | (dfFull['Dia_semana'] == 6)], \n",
    "             x=\"pickup_day\", y=\"min_diff\", hue=\"Dia_semana\",palette='colorblind', style=\"Dia_semana\", legend=False)\n",
    "plt.axhline(dfFull['min_diff'][(dfFull['Dia_semana'] == 5) | (dfFull['Dia_semana'] == 6)].mean(), color='r',\n",
    "            linestyle='--')\n",
    "plt.title('Tempo de corridas no Sábado e Domingo') \n",
    "plt.ylabel('quantidade em minutos')\n",
    "plt.xlabel('')\n",
    "plt.legend(['Sábado','Domingo', 'Média'])\n",
    "fig.show()"
   ]
  }
 ],
 "metadata": {
  "kernelspec": {
   "display_name": "Python 3",
   "language": "python",
   "name": "python3"
  },
  "language_info": {
   "codemirror_mode": {
    "name": "ipython",
    "version": 3
   },
   "file_extension": ".py",
   "mimetype": "text/x-python",
   "name": "python",
   "nbconvert_exporter": "python",
   "pygments_lexer": "ipython3",
   "version": "3.8.8"
  }
 },
 "nbformat": 4,
 "nbformat_minor": 5
}
